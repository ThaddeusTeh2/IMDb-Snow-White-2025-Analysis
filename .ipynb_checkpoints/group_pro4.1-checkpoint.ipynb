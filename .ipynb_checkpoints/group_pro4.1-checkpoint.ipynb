{
 "cells": [
  {
   "cell_type": "markdown",
   "id": "de521196-6dcd-47e2-bc8b-e40021538793",
   "metadata": {},
   "source": [
    "# imports"
   ]
  },
  {
   "cell_type": "code",
   "execution_count": 1,
   "id": "0a7ff33d-8444-4369-8115-be15b26d9f0a",
   "metadata": {},
   "outputs": [],
   "source": [
    "import selenium\n",
    "from selenium import webdriver\n",
    "from selenium.webdriver.chrome.service import Service as ChromeService\n",
    "from webdriver_manager.chrome import ChromeDriverManager\n",
    "from selenium.webdriver.support.ui import WebDriverWait\n",
    "from selenium.webdriver.support import expected_conditions as EC\n",
    "from selenium.webdriver.support.ui import Select\n",
    "from selenium.webdriver.common.by import By\n",
    "import pandas as pd\n",
    "import time\n",
    "from tqdm import tqdm "
   ]
  },
  {
   "cell_type": "markdown",
   "id": "91498e99-b33a-4556-a5bc-fc08ae37b76b",
   "metadata": {},
   "source": [
    "# Scraping (Jia Xiang & Kesh)"
   ]
  },
  {
   "cell_type": "code",
   "execution_count": null,
   "id": "95c9936e-9341-4d28-976d-1dfdf6f0747a",
   "metadata": {},
   "outputs": [
    {
     "name": "stderr",
     "output_type": "stream",
     "text": [
      "  6%|▌         | 54/965 [01:41<27:06,  1.79s/it]"
     ]
    }
   ],
   "source": [
    "# Step 1\n",
    "driver = webdriver.Chrome(service=ChromeService(ChromeDriverManager().install()))\n",
    "driver.get('https://www.imdb.com/title/tt6208148/reviews/?ref_=tt_urv')\n",
    "driver.implicitly_wait(10)\n",
    "\n",
    "# Click All\n",
    "try:\n",
    "    all_button = WebDriverWait(driver, 5).until(\n",
    "        EC.element_to_be_clickable((By.XPATH, \"//button[.//span[@class='ipc-see-more__text' and text()='All']]\"))\n",
    "    )\n",
    "    driver.execute_script(\"arguments[0].click();\", all_button)\n",
    "    time.sleep(2)  \n",
    "except:\n",
    "    pass  \n",
    "\n",
    "# Scroll to load all \n",
    "count = 0\n",
    "scroll = 0\n",
    "\n",
    "while True:\n",
    "    driver.execute_script(\"window.scrollTo(0, document.body.scrollHeight);\")\n",
    "    time.sleep(2)  \n",
    "    \n",
    "    mains = driver.find_elements(By.CLASS_NAME, \"ipc-list-card__content\")\n",
    "    \n",
    "    if len(mains) == count: \n",
    "        scroll += 1\n",
    "        if scroll > 5:  \n",
    "            break  \n",
    "    else:\n",
    "        scroll = 0  \n",
    "    \n",
    "    count = len(mains)\n",
    "\n",
    "# Scroll again for final check\n",
    "for _ in range(3):  \n",
    "    driver.execute_script(\"window.scrollTo(0, document.body.scrollHeight);\")\n",
    "    time.sleep(2)  \n",
    "\n",
    "# Review and rating\n",
    "mains = driver.find_elements(By.CLASS_NAME, \"ipc-list-card__content\")\n",
    "all_reviews = []\n",
    "all_ratings = []\n",
    "\n",
    "\n",
    "for main in tqdm(mains):\n",
    "    # Review\n",
    "    ret = main.find_elements(By.CLASS_NAME, \"ipc-html-content-inner-div\")\n",
    "    review = ret[0].text.strip() if ret else \"\"  \n",
    "\n",
    "    # Rating\n",
    "    rat = main.find_elements(By.CLASS_NAME, \"sc-3e6f8aa9-4\")\n",
    "    rating = f\"{rat[0].text.strip().split('\\n')[0]}/10\" if rat else \"\"  \n",
    "\n",
    "    all_reviews.append(review)\n",
    "    all_ratings.append(rating)\n",
    "\n",
    "imdb = {\n",
    "    'Review': all_reviews,\n",
    "    'Rating': all_ratings,\n",
    "}\n",
    "\n",
    "# CSV\n",
    "df = pd.DataFrame(imdb)\n",
    "df.fillna(\"\", inplace=True)  \n",
    "df.to_csv('imdb.csv', index=False)\n",
    "driver.quit()\n",
    "df"
   ]
  },
  {
   "cell_type": "markdown",
   "id": "07d034f8-a67d-45a7-afa2-7c30915ab7c5",
   "metadata": {},
   "source": [
    "# Data Cleaning and Sentiment Analysis (Thaddeus)"
   ]
  },
  {
   "cell_type": "code",
   "execution_count": null,
   "id": "65dd1294-5347-4a92-9cdd-7309d92d9b85",
   "metadata": {},
   "outputs": [],
   "source": [
    "df = pd.read_csv('./imdb.csv')\n",
    "df.head()"
   ]
  },
  {
   "cell_type": "code",
   "execution_count": null,
   "id": "c64ff091-30e8-4dfc-b4e0-dd121a8d5099",
   "metadata": {},
   "outputs": [],
   "source": [
    "import nltk\n",
    "nltk.__version__\n",
    "from nltk.corpus import reuters\n",
    "from nltk.tokenize import word_tokenize, sent_tokenize\n",
    "from nltk.corpus import stopwords\n",
    "from nltk.sentiment import SentimentIntensityAnalyzer"
   ]
  },
  {
   "cell_type": "code",
   "execution_count": null,
   "id": "d8c5455c-58d9-4fd9-b774-79ffd744dfbd",
   "metadata": {},
   "outputs": [],
   "source": [
    "nltk.download('punkt_tab') # for tokenisation\n",
    "nltk.download('stopwords')\n",
    "nltk.download('averaged_perceptron_tagger_eng') # POS tagging Part of speech tagging\n",
    "nltk.download('wordnet') # lemmatization\n",
    "nltk.download('vader_lexicon') # sentiment analysis"
   ]
  },
  {
   "cell_type": "code",
   "execution_count": null,
   "id": "a9c9cbf2-34a8-44d1-8e89-f343ae89de17",
   "metadata": {},
   "outputs": [],
   "source": [
    "## preps data to be run thru sentiment analysis\n",
    "def preprocess (data):\n",
    "    words = word_tokenize(data)\n",
    "    stop_words = set(stopwords.words('english'))\n",
    "    normalize_words = [word.lower() for word in words if word.isalpha()]\n",
    "    filtered_words = [word for word in normalize_words if word not in stop_words]\n",
    "    text = ' '.join(filtered_words)\n",
    "    return text"
   ]
  },
  {
   "cell_type": "code",
   "execution_count": null,
   "id": "078c8386-f022-476d-8d06-8d4e35311fd0",
   "metadata": {},
   "outputs": [],
   "source": [
    "sia = SentimentIntensityAnalyzer()\n",
    "\n",
    "def analyze_sentiments(df):\n",
    "    # default vals\n",
    "    df['Cleaned_Review'] = ''\n",
    "    df['VADER_Compound'] = 0.0\n",
    "    df['VADER_Positive'] = 0.0\n",
    "    df['VADER_Negative'] = 0.0\n",
    "    df['VADER_Neutral'] = 0.0\n",
    "    \n",
    "    # processing review\n",
    "    for i in range(len(df)):\n",
    "        review_text = df.loc[i, 'Review']\n",
    "        # cuci before analyze\n",
    "        clean = preprocess(review_text)\n",
    "        #print(clean_review)\n",
    "        df.at[i, 'Cleaned_Review'] = clean\n",
    "        # sentiment analysis\n",
    "        sentiment_scores = sia.polarity_scores(clean)\n",
    "        df.at[i, 'VADER_Compound'] = sentiment_scores['compound']\n",
    "        df.at[i, 'VADER_Positive'] = sentiment_scores['pos']\n",
    "        df.at[i, 'VADER_Negative'] = sentiment_scores['neg']\n",
    "        df.at[i, 'VADER_Neutral'] = sentiment_scores['neu']\n",
    "\n",
    "    file = 'imdb_sentiment_analysis.csv'\n",
    "    df.to_csv(file, index=False)\n",
    "    print(f\"done, saved to {file}.\")\n",
    "\n",
    "    return df\n"
   ]
  },
  {
   "cell_type": "code",
   "execution_count": null,
   "id": "06f1bbc3-2750-46fd-b9aa-263f612bcd26",
   "metadata": {},
   "outputs": [],
   "source": [
    "df = analyze_sentiments(df)"
   ]
  },
  {
   "cell_type": "markdown",
   "id": "4f83fca3-9f74-4642-9e91-e27f46dcff3e",
   "metadata": {},
   "source": [
    "# Word Cloud (KXLeong)"
   ]
  },
  {
   "cell_type": "code",
   "execution_count": null,
   "id": "9d20dd8b-7997-4996-8430-db1e0d7adecd",
   "metadata": {},
   "outputs": [],
   "source": [
    "from wordcloud import WordCloud\n",
    "import matplotlib.pyplot as plt"
   ]
  },
  {
   "cell_type": "code",
   "execution_count": null,
   "id": "d047722f-31b4-4870-b580-b1af16ce8c7e",
   "metadata": {},
   "outputs": [],
   "source": [
    "wc = WordCloud(width=800,height=400,background_color='white').generate(' '.join(df[df['VADER_Compound'] < 0]['Cleaned_Review'].values))\n",
    "plt.figure(figsize=(10,5))\n",
    "plt.imshow(wc)\n",
    "plt.axis('off')\n",
    "plt.show()"
   ]
  },
  {
   "cell_type": "code",
   "execution_count": null,
   "id": "858bbde2-3bf2-45a9-ad3d-1c4b178552a3",
   "metadata": {},
   "outputs": [],
   "source": [
    "wc = WordCloud(width=800,height=400,background_color='white').generate(' '.join(df[df['VADER_Compound'] > 0]['Cleaned_Review'].values))\n",
    "plt.figure(figsize=(10,5))\n",
    "plt.imshow(wc)\n",
    "plt.axis('off')\n",
    "plt.show()"
   ]
  },
  {
   "cell_type": "code",
   "execution_count": null,
   "id": "41a672f5-3c31-472d-8275-087bd5653c11",
   "metadata": {},
   "outputs": [],
   "source": []
  }
 ],
 "metadata": {
  "kernelspec": {
   "display_name": "Python [conda env:base] *",
   "language": "python",
   "name": "conda-base-py"
  },
  "language_info": {
   "codemirror_mode": {
    "name": "ipython",
    "version": 3
   },
   "file_extension": ".py",
   "mimetype": "text/x-python",
   "name": "python",
   "nbconvert_exporter": "python",
   "pygments_lexer": "ipython3",
   "version": "3.12.7"
  }
 },
 "nbformat": 4,
 "nbformat_minor": 5
}
