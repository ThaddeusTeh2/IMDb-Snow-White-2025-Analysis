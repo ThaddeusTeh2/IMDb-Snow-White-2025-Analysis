{
 "cells": [
  {
   "cell_type": "markdown",
   "id": "d08b2690-785b-45af-8dc3-7876f5e68742",
   "metadata": {},
   "source": [
    "# Web Scraping (Jia Xiang's contribution)"
   ]
  },
  {
   "cell_type": "code",
   "execution_count": 49,
   "id": "15ba8030-8232-439c-b267-28aaca5e544b",
   "metadata": {},
   "outputs": [],
   "source": [
    "import selenium\n",
    "from selenium import webdriver\n",
    "from selenium.webdriver.chrome.service import Service as ChromeService\n",
    "from webdriver_manager.chrome import ChromeDriverManager\n",
    "from selenium.webdriver.support.ui import WebDriverWait\n",
    "from selenium.webdriver.support import expected_conditions as EC\n",
    "from selenium.webdriver.support.ui import Select\n",
    "from selenium.webdriver.common.by import By\n",
    "import pandas as pd\n",
    "import time\n",
    "from tqdm import tqdm "
   ]
  },
  {
   "cell_type": "code",
   "execution_count": null,
   "id": "fbb5ad9a-b085-499f-8296-f6e133a6c18c",
   "metadata": {},
   "outputs": [
    {
     "name": "stderr",
     "output_type": "stream",
     "text": [
      "  2%|▏         | 24/965 [00:40<29:47,  1.90s/it]"
     ]
    }
   ],
   "source": [
    "driver = webdriver.Chrome(service=ChromeService(ChromeDriverManager().install()))\n",
    "driver.get('https://www.imdb.com/title/tt6208148/reviews/?ref_=tt_urv')\n",
    "driver.implicitly_wait(10)\n",
    "\n",
    "# Click All\n",
    "try:\n",
    "    all_button = WebDriverWait(driver, 5).until(\n",
    "        EC.element_to_be_clickable((By.XPATH, \"//button[.//span[@class='ipc-see-more__text' and text()='All']]\"))\n",
    "    )\n",
    "    driver.execute_script(\"arguments[0].click();\", all_button)\n",
    "    time.sleep(2)  \n",
    "except:\n",
    "    pass  \n",
    "\n",
    "# Scroll to load all \n",
    "count = 0\n",
    "scroll = 0\n",
    "\n",
    "while True:\n",
    "    driver.execute_script(\"window.scrollTo(0, document.body.scrollHeight);\")\n",
    "    time.sleep(2)  \n",
    "    \n",
    "    mains = driver.find_elements(By.CLASS_NAME, \"ipc-list-card__content\")\n",
    "    \n",
    "    if len(mains) == count: \n",
    "        scroll += 1\n",
    "        if scroll > 5:  \n",
    "            break  \n",
    "    else:\n",
    "        scroll = 0  \n",
    "    \n",
    "    count = len(mains)\n",
    "\n",
    "# Scroll again for final check\n",
    "for _ in range(3):  \n",
    "    driver.execute_script(\"window.scrollTo(0, document.body.scrollHeight);\")\n",
    "    time.sleep(2)  \n",
    "\n",
    "# Review and rating\n",
    "mains = driver.find_elements(By.CLASS_NAME, \"ipc-list-card__content\")\n",
    "all_reviews = []\n",
    "all_ratings = []\n",
    "\n",
    "\n",
    "for main in tqdm(mains):\n",
    "    # Review\n",
    "    ret = main.find_elements(By.CLASS_NAME, \"ipc-html-content-inner-div\")\n",
    "    review = ret[0].text.strip() if ret else \"\"  \n",
    "\n",
    "    # Rating\n",
    "    rat = main.find_elements(By.CLASS_NAME, \"sc-3e6f8aa9-4\")\n",
    "    rating = f\"{rat[0].text.strip().split('\\n')[0]}/10\" if rat else \"\"  \n",
    "\n",
    "    all_reviews.append(review)\n",
    "    all_ratings.append(rating)\n",
    "\n",
    "imdb = {\n",
    "    'Review': all_reviews,\n",
    "    'Rating': all_ratings,\n",
    "}\n",
    "\n",
    "# CSV\n",
    "df = pd.DataFrame(imdb)\n",
    "df.fillna(\"\", inplace=True)  \n",
    "df.to_csv('imdb.csv', index=False)\n",
    "driver.quit()\n",
    "df"
   ]
  },
  {
   "cell_type": "markdown",
   "id": "aea996f5-1c13-4fa1-9d12-04380e2b1e56",
   "metadata": {},
   "source": [
    "# Sentiment Analysis (Thaddeus Teh's contribution)"
   ]
  },
  {
   "cell_type": "code",
   "execution_count": 7,
   "id": "9ae2125a-f48c-4d2b-ae3a-10d4f0297563",
   "metadata": {},
   "outputs": [
    {
     "data": {
      "text/html": [
       "<div>\n",
       "<style scoped>\n",
       "    .dataframe tbody tr th:only-of-type {\n",
       "        vertical-align: middle;\n",
       "    }\n",
       "\n",
       "    .dataframe tbody tr th {\n",
       "        vertical-align: top;\n",
       "    }\n",
       "\n",
       "    .dataframe thead th {\n",
       "        text-align: right;\n",
       "    }\n",
       "</style>\n",
       "<table border=\"1\" class=\"dataframe\">\n",
       "  <thead>\n",
       "    <tr style=\"text-align: right;\">\n",
       "      <th></th>\n",
       "      <th>Review</th>\n",
       "      <th>Rating</th>\n",
       "    </tr>\n",
       "  </thead>\n",
       "  <tbody>\n",
       "    <tr>\n",
       "      <th>0</th>\n",
       "      <td>Disney's live-action Snow White is finally her...</td>\n",
       "      <td>1/10</td>\n",
       "    </tr>\n",
       "    <tr>\n",
       "      <th>1</th>\n",
       "      <td>As always, whenever there's a negative hype ar...</td>\n",
       "      <td>1/10</td>\n",
       "    </tr>\n",
       "    <tr>\n",
       "      <th>2</th>\n",
       "      <td>Disney's latest live-action remake, Snow White...</td>\n",
       "      <td>1/10</td>\n",
       "    </tr>\n",
       "    <tr>\n",
       "      <th>3</th>\n",
       "      <td>Saw this at the cinema with my six-year-old da...</td>\n",
       "      <td>1/10</td>\n",
       "    </tr>\n",
       "    <tr>\n",
       "      <th>4</th>\n",
       "      <td>Snow White remake set out to modernize the cla...</td>\n",
       "      <td>1/10</td>\n",
       "    </tr>\n",
       "  </tbody>\n",
       "</table>\n",
       "</div>"
      ],
      "text/plain": [
       "                                              Review Rating\n",
       "0  Disney's live-action Snow White is finally her...   1/10\n",
       "1  As always, whenever there's a negative hype ar...   1/10\n",
       "2  Disney's latest live-action remake, Snow White...   1/10\n",
       "3  Saw this at the cinema with my six-year-old da...   1/10\n",
       "4  Snow White remake set out to modernize the cla...   1/10"
      ]
     },
     "execution_count": 7,
     "metadata": {},
     "output_type": "execute_result"
    }
   ],
   "source": [
    "df = pd.read_csv('./imdb.csv')\n",
    "df.head()"
   ]
  },
  {
   "cell_type": "code",
   "execution_count": 8,
   "id": "b24a186c-f152-4222-a3fb-b93910e41f22",
   "metadata": {},
   "outputs": [],
   "source": [
    "import nltk\n",
    "nltk.__version__\n",
    "from nltk.corpus import reuters\n",
    "from nltk.tokenize import word_tokenize, sent_tokenize\n",
    "from nltk.corpus import stopwords\n",
    "from nltk.sentiment import SentimentIntensityAnalyzer"
   ]
  },
  {
   "cell_type": "code",
   "execution_count": 9,
   "id": "1668c11e-ad18-4436-af87-e15602af0ace",
   "metadata": {},
   "outputs": [
    {
     "name": "stderr",
     "output_type": "stream",
     "text": [
      "[nltk_data] Downloading package punkt_tab to\n",
      "[nltk_data]     /Users/thaddeusteh/nltk_data...\n",
      "[nltk_data]   Package punkt_tab is already up-to-date!\n",
      "[nltk_data] Downloading package stopwords to\n",
      "[nltk_data]     /Users/thaddeusteh/nltk_data...\n",
      "[nltk_data]   Package stopwords is already up-to-date!\n",
      "[nltk_data] Downloading package averaged_perceptron_tagger_eng to\n",
      "[nltk_data]     /Users/thaddeusteh/nltk_data...\n",
      "[nltk_data]   Package averaged_perceptron_tagger_eng is already up-to-\n",
      "[nltk_data]       date!\n",
      "[nltk_data] Downloading package wordnet to\n",
      "[nltk_data]     /Users/thaddeusteh/nltk_data...\n",
      "[nltk_data]   Package wordnet is already up-to-date!\n",
      "[nltk_data] Downloading package vader_lexicon to\n",
      "[nltk_data]     /Users/thaddeusteh/nltk_data...\n",
      "[nltk_data]   Package vader_lexicon is already up-to-date!\n"
     ]
    },
    {
     "data": {
      "text/plain": [
       "True"
      ]
     },
     "execution_count": 9,
     "metadata": {},
     "output_type": "execute_result"
    }
   ],
   "source": [
    "nltk.download('punkt_tab') # for tokenisation\n",
    "nltk.download('stopwords')\n",
    "nltk.download('averaged_perceptron_tagger_eng') # POS tagging Part of speech tagging\n",
    "nltk.download('wordnet') # lemmatization\n",
    "nltk.download('vader_lexicon') # sentiment analysis"
   ]
  },
  {
   "cell_type": "code",
   "execution_count": 20,
   "id": "ee3fb7fd-0c2b-4b83-b726-c4cb035f1f51",
   "metadata": {},
   "outputs": [],
   "source": [
    "## preps data to be run thru sentiment analysis\n",
    "def preprocess (data):\n",
    "    words = word_tokenize(data)\n",
    "    stop_words = set(stopwords.words('english'))\n",
    "    normalize_words = [word.lower() for word in words if word.isalpha()]\n",
    "    filtered_words = [word for word in normalize_words if word not in stop_words]\n",
    "    text = ' '.join(filtered_words)\n",
    "    return text"
   ]
  },
  {
   "cell_type": "code",
   "execution_count": 37,
   "id": "8e676bde-a4d2-4a1b-ad02-6796c7673a7b",
   "metadata": {},
   "outputs": [],
   "source": [
    "sia = SentimentIntensityAnalyzer()\n",
    "\n",
    "def analyze_sentiments(df):\n",
    "    # default vals\n",
    "    df['Cleaned_Review'] = ''\n",
    "    df['VADER_Compound'] = 0.0\n",
    "    df['VADER_Positive'] = 0.0\n",
    "    df['VADER_Negative'] = 0.0\n",
    "    df['VADER_Neutral'] = 0.0\n",
    "    \n",
    "    # processing review\n",
    "    for i in range(len(df)):\n",
    "        review_text = df.loc[i, 'Review']\n",
    "        # cuci before analyze\n",
    "        clean = preprocess(review_text)\n",
    "        #print(clean_review)\n",
    "        df.at[i, 'Cleaned_Review'] = clean\n",
    "        # sentiment analysis\n",
    "        sentiment_scores = sia.polarity_scores(clean)\n",
    "        df.at[i, 'VADER_Compound'] = sentiment_scores['compound']\n",
    "        df.at[i, 'VADER_Positive'] = sentiment_scores['pos']\n",
    "        df.at[i, 'VADER_Negative'] = sentiment_scores['neg']\n",
    "        df.at[i, 'VADER_Neutral'] = sentiment_scores['neu']\n",
    "\n",
    "    file = 'imdb_sentiment_analysis.csv'\n",
    "    df.to_csv(file, index=False)\n",
    "    print(f\"done, saved to {file}.\")\n",
    "\n",
    "    return df\n"
   ]
  },
  {
   "cell_type": "code",
   "execution_count": 39,
   "id": "8b74fa90-7455-4002-a3b0-07e591f33b7b",
   "metadata": {},
   "outputs": [
    {
     "name": "stdout",
     "output_type": "stream",
     "text": [
      "done, saved to imdb_sentiment_analysis.csv.\n"
     ]
    }
   ],
   "source": [
    "df = analyze_sentiments(df)"
   ]
  },
  {
   "cell_type": "markdown",
   "id": "076df3cf-ce64-46f3-af67-2457b8552322",
   "metadata": {},
   "source": [
    "# word cloud (Jia Xiang's Contribution)"
   ]
  },
  {
   "cell_type": "code",
   "execution_count": null,
   "id": "3636b5d0-b72b-4074-a4f2-b386c46c9279",
   "metadata": {},
   "outputs": [],
   "source": []
  }
 ],
 "metadata": {
  "kernelspec": {
   "display_name": "Python [conda env:base] *",
   "language": "python",
   "name": "conda-base-py"
  },
  "language_info": {
   "codemirror_mode": {
    "name": "ipython",
    "version": 3
   },
   "file_extension": ".py",
   "mimetype": "text/x-python",
   "name": "python",
   "nbconvert_exporter": "python",
   "pygments_lexer": "ipython3",
   "version": "3.12.7"
  }
 },
 "nbformat": 4,
 "nbformat_minor": 5
}
